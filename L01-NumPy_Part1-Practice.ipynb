{
 "cells": [
  {
   "cell_type": "markdown",
   "metadata": {},
   "source": [
    "# Lesson 1 Practice: NumPy Part 1\n",
    "Use this notebook to follow along with the lesson in the corresponding lesson notebook: [L01-Numpy_Part1-Lesson.ipynb](./L01-Numpy_Part1-Lesson.ipynb).  \n",
    "\n"
   ]
  },
  {
   "cell_type": "markdown",
   "metadata": {},
   "source": [
    "## Instructions\n",
    "Follow along with the teaching material in the lesson. Throughout the tutorial sections labeled as \"Tasks\" are interspersed and indicated with the icon: ![Task](http://icons.iconarchive.com/icons/sbstnblnd/plateau/16/Apps-gnome-info-icon.png). You should follow the instructions provided in these sections by performing them in the practice notebook.  When the tutorial is completed you can turn in the final practice notebook. For each task, use the cell below it to write and test your code.  You may add additional cells for any task as needed or desired.  "
   ]
  },
  {
   "cell_type": "markdown",
   "metadata": {},
   "source": [
    "## Task 1a: Setup\n",
    "\n",
    "In the practice notebook, import the following packages:\n",
    "+ `numpy` as `np`"
   ]
  },
  {
   "cell_type": "code",
   "execution_count": 2,
   "metadata": {},
   "outputs": [],
   "source": [
    "import numpy as np "
   ]
  },
  {
   "cell_type": "markdown",
   "metadata": {},
   "source": [
    "## Task 2a: Creating Arrays\n",
    "\n",
    "In the practice notebook, perform the following.  \n",
    "- Create a 1-dimensional numpy array and print it.\n",
    "- Create a 2-dimensional numpy array and print it.\n",
    "- Create a 3-dimensional numpy array and print it."
   ]
  },
  {
   "cell_type": "code",
   "execution_count": 31,
   "metadata": {},
   "outputs": [
    {
     "output_type": "stream",
     "name": "stdout",
     "text": [
      "1-Dimensional numpy array:\n [1 2 3] \n\n2-Dimensional numpy array:\n [[1 2 3]\n [4 5 6]] \n\n3-Dimensional numpy array:\n [[[1 2 3]\n  [4 5 6]]\n\n [[7 8 9]\n  [5 3 9]]] \n\n"
     ]
    }
   ],
   "source": [
    "# 1-dimensional numpy array\n",
    "d1_np = np.array([1, 2, 3])\n",
    "print('1-Dimensional numpy array:\\n', d1_np, '\\n')\n",
    "\n",
    "# 2-dimensional numpy array\n",
    "d2_np = np.array([[1, 2, 3], [4, 5, 6]])\n",
    "print('2-Dimensional numpy array:\\n', d2_np, '\\n')\n",
    "\n",
    "# 3-dimensional numpy array\n",
    "d3_np = np.array([[[1, 2, 3], [4, 5, 6]], [[7, 8, 9], [5, 3, 9]]])\n",
    "print('3-Dimensional numpy array:\\n', d3_np, '\\n')\n"
   ]
  },
  {
   "cell_type": "markdown",
   "metadata": {},
   "source": [
    "## Task 3a: Accessing Array Attributes\n",
    "\n",
    "In the practice notebook, perform the following.\n",
    "\n",
    "- Create a NumPy array.\n",
    "- Write code that prints these attributes (one per line): `ndim`, `shape`, `size`, `dtype`, `itemsize`, `data`, `nbytes`.\n",
    "- Add a comment line, before each line describing what value the attribute returns. \n"
   ]
  },
  {
   "cell_type": "code",
   "execution_count": 38,
   "metadata": {},
   "outputs": [
    {
     "output_type": "stream",
     "name": "stdout",
     "text": [
      "2\n(4, 3)\n12\nint32\n4\n<memory at 0x00000238B646F040>\n48\n"
     ]
    }
   ],
   "source": [
    "my_array = np.array([[3, 5, 7],\n",
    "                    [6, 9, 4],\n",
    "                    [9, 7, 5],\n",
    "                    [4, 8, 7]])\n",
    "\n",
    "# Display the dimension number of an array\n",
    "print(my_array.ndim)\n",
    "\n",
    "# Display the shape of an array\n",
    "print(my_array.shape)\n",
    "\n",
    "# Display the size of an array\n",
    "print(my_array.size)\n",
    "\n",
    "# Display the type of an array\n",
    "print(my_array.dtype)\n",
    "\n",
    "# Display the ength of an array element in bytes.\n",
    "print(my_array.itemsize)\n",
    "\n",
    "# Display the Python buffer object pointing to the start of the array’s data\n",
    "print(my_array.data)\n",
    "\n",
    "# Display total bytes consumed by the elements of the array.\n",
    "print(my_array.nbytes)"
   ]
  },
  {
   "cell_type": "markdown",
   "metadata": {},
   "source": [
    "## Task 4a: Initializing Arrays\n",
    "\n",
    "In the practice notebook, perform the following.\n",
    "\n",
    "+ Create an initialized array by using these functions:  `ones`, `zeros`, `empty`, `full`, `arange`, `linspace` and `random.random`. Be sure to follow each array creation with a call to `print()` to display your newly created arrays. \n",
    "+ Add a comment above each function call describing what is being done.  "
   ]
  },
  {
   "cell_type": "code",
   "execution_count": 34,
   "metadata": {},
   "outputs": [
    {
     "output_type": "stream",
     "name": "stdout",
     "text": [
      "[1 1 1]\n[0 0 0]\n[[0 1]\n [2 3]]\n[[7 7 7]\n [7 7 7]\n [7 7 7]]\n[ 2  5  8 11 14 17]\n[ 4  8 12 16 20]\n[0.98333847 0.9368752  0.31912117 0.749152   0.50693391]\n"
     ]
    }
   ],
   "source": [
    "# Create an array filled with ones\n",
    "one_array = np.ones(3, dtype=int)\n",
    "print(one_array)\n",
    "\n",
    "# Create an array filled with zeros\n",
    "zero_array = np.zeros(3, dtype=int)\n",
    "print(zero_array)\n",
    "\n",
    "# Create an array without initializing entries\n",
    "empty_array = np.empty((2, 2), dtype=int)\n",
    "print(empty_array)\n",
    "\n",
    "# Create an array filled with sevens\n",
    "full_array = np.full((3, 3), 7)\n",
    "print(full_array)\n",
    "\n",
    "# Create an evenly spaced values array within a given interval\n",
    "arange_array = np.arange(2, 18, 3)\n",
    "print(arange_array)\n",
    "\n",
    "# Create an evenly spaced numbers array over a specified interval\n",
    "line_array = np.linspace(4, 20, num=5, dtype=int)\n",
    "print(line_array)\n",
    "\n",
    "# Crear an array with random nu,ber between 0-1\n",
    "random_array = np.random.random(5)\n",
    "print(random_array)"
   ]
  },
  {
   "cell_type": "markdown",
   "metadata": {},
   "source": [
    "## Task 5a:  Broadcasting Arrays\n",
    "\n",
    "In the practice notebook, perform the following.\n",
    "\n",
    "+ Create two arrays of differing sizes but compatible with broadcasting.\n",
    "+ Perform addition, multiplication and subtraction.\n",
    "+ Create two additional arrays of differing size that do not meet the rules for broadcasting and try a mathematical operation.  "
   ]
  },
  {
   "cell_type": "code",
   "execution_count": 59,
   "metadata": {},
   "outputs": [
    {
     "output_type": "stream",
     "name": "stdout",
     "text": [
      "first array shape: (3, 2)\n[[0.32003215 0.25160732]\n [0.87743018 0.3016261 ]\n [0.92789694 0.25204649]] \n\nsecond array shape: (4, 1, 2)\n[[[1. 1.]]\n\n [[1. 1.]]\n\n [[1. 1.]]\n\n [[1. 1.]]] \n\nAddition:\n [[[1.32003215 1.25160732]\n  [1.87743018 1.3016261 ]\n  [1.92789694 1.25204649]]\n\n [[1.32003215 1.25160732]\n  [1.87743018 1.3016261 ]\n  [1.92789694 1.25204649]]\n\n [[1.32003215 1.25160732]\n  [1.87743018 1.3016261 ]\n  [1.92789694 1.25204649]]\n\n [[1.32003215 1.25160732]\n  [1.87743018 1.3016261 ]\n  [1.92789694 1.25204649]]] \n\nMultiplication:\n [[[0.32003215 0.25160732]\n  [0.87743018 0.3016261 ]\n  [0.92789694 0.25204649]]\n\n [[0.32003215 0.25160732]\n  [0.87743018 0.3016261 ]\n  [0.92789694 0.25204649]]\n\n [[0.32003215 0.25160732]\n  [0.87743018 0.3016261 ]\n  [0.92789694 0.25204649]]\n\n [[0.32003215 0.25160732]\n  [0.87743018 0.3016261 ]\n  [0.92789694 0.25204649]]] \n\nSubtraction:\n [[[-0.67996785 -0.74839268]\n  [-0.12256982 -0.6983739 ]\n  [-0.07210306 -0.74795351]]\n\n [[-0.67996785 -0.74839268]\n  [-0.12256982 -0.6983739 ]\n  [-0.07210306 -0.74795351]]\n\n [[-0.67996785 -0.74839268]\n  [-0.12256982 -0.6983739 ]\n  [-0.07210306 -0.74795351]]\n\n [[-0.67996785 -0.74839268]\n  [-0.12256982 -0.6983739 ]\n  [-0.07210306 -0.74795351]]]\n"
     ]
    }
   ],
   "source": [
    "ar1 = np.random.random((3, 2))\n",
    "ar2 = np.ones((4, 1, 2))\n",
    "print(f\"first array shape: {ar1.shape}\")\n",
    "print(ar1,'\\n')\n",
    "print(f\"second array shape: {ar2.shape}\")\n",
    "print(ar2, '\\n')\n",
    "\n",
    "# Addition\n",
    "add = ar1 + ar2\n",
    "print('Addition:\\n', add, '\\n')\n",
    "\n",
    "# Multiplication\n",
    "mul = ar1*ar2\n",
    "print('Multiplication:\\n', mul,'\\n')\n",
    "\n",
    "# Subtraction\n",
    "sub = ar1 - ar2\n",
    "print('Subtraction:\\n', sub)"
   ]
  },
  {
   "cell_type": "code",
   "execution_count": 60,
   "metadata": {},
   "outputs": [
    {
     "output_type": "stream",
     "name": "stdout",
     "text": [
      "first array shape: (3, 2)\n[[0.24012489 0.93724268]\n [0.58392825 0.13045322]\n [0.96343855 0.52011976]] \n\nsecond array shape: (4, 2, 2)\n[[[1. 1.]\n  [1. 1.]]\n\n [[1. 1.]\n  [1. 1.]]\n\n [[1. 1.]\n  [1. 1.]]\n\n [[1. 1.]\n  [1. 1.]]] \n\n"
     ]
    },
    {
     "output_type": "error",
     "ename": "ValueError",
     "evalue": "operands could not be broadcast together with shapes (3,2) (4,2,2) ",
     "traceback": [
      "\u001b[1;31m---------------------------------------------------------------------------\u001b[0m",
      "\u001b[1;31mValueError\u001b[0m                                Traceback (most recent call last)",
      "\u001b[1;32m<ipython-input-60-bac1a0e4044d>\u001b[0m in \u001b[0;36m<module>\u001b[1;34m\u001b[0m\n\u001b[0;32m      7\u001b[0m \u001b[1;33m\u001b[0m\u001b[0m\n\u001b[0;32m      8\u001b[0m \u001b[1;31m# Addition\u001b[0m\u001b[1;33m\u001b[0m\u001b[1;33m\u001b[0m\u001b[1;33m\u001b[0m\u001b[0m\n\u001b[1;32m----> 9\u001b[1;33m \u001b[0madd\u001b[0m \u001b[1;33m=\u001b[0m \u001b[0mar1\u001b[0m \u001b[1;33m+\u001b[0m \u001b[0mar2\u001b[0m\u001b[1;33m\u001b[0m\u001b[1;33m\u001b[0m\u001b[0m\n\u001b[0m\u001b[0;32m     10\u001b[0m \u001b[0mprint\u001b[0m\u001b[1;33m(\u001b[0m\u001b[1;34m'Addition:\\n'\u001b[0m\u001b[1;33m,\u001b[0m \u001b[0madd\u001b[0m\u001b[1;33m,\u001b[0m \u001b[1;34m'\\n'\u001b[0m\u001b[1;33m)\u001b[0m\u001b[1;33m\u001b[0m\u001b[1;33m\u001b[0m\u001b[0m\n\u001b[0;32m     11\u001b[0m \u001b[1;33m\u001b[0m\u001b[0m\n",
      "\u001b[1;31mValueError\u001b[0m: operands could not be broadcast together with shapes (3,2) (4,2,2) "
     ]
    }
   ],
   "source": [
    "ar1 = np.random.random((3, 2))\n",
    "ar2 = np.ones((4, 2, 2))\n",
    "print(f\"first array shape: {ar1.shape}\")\n",
    "print(ar1,'\\n')\n",
    "print(f\"second array shape: {ar2.shape}\")\n",
    "print(ar2, '\\n')\n",
    "\n",
    "# Addition\n",
    "add = ar1 + ar2\n",
    "print('Addition:\\n', add, '\\n')\n",
    "\n",
    "# Multiplication\n",
    "mul = ar1*ar2\n",
    "print('Multiplication:\\n', mul,'\\n')\n",
    "\n",
    "# Subtraction\n",
    "sub = ar1 - ar2\n",
    "print('Subtraction:\\n', sub)"
   ]
  },
  {
   "cell_type": "markdown",
   "metadata": {},
   "source": [
    "## Task 6a: Math/Stats Aggregate Functions\n",
    "\n",
    "In the practice notebook, perform the following.\n",
    "\n",
    "+ Create three to five arrays\n",
    "+ Experiment with each of the aggregation functions: `sum`, `minimum`, `maximum`, `cumsum`, `mean`, `np.corrcoef`, `np.std`, `np.var`. \n",
    "+ For each function call, add a comment line above it that describes what it does.  \n",
    "```\n"
   ]
  },
  {
   "cell_type": "code",
   "execution_count": 86,
   "metadata": {},
   "outputs": [
    {
     "output_type": "stream",
     "name": "stdout",
     "text": [
      "[ 2  4  6  8 10 12 14 16 18 20 22 24 26 28 30]\n[ 3  6  9 13 16 19 23 26 29 33 36 39 43 46 50]\n[0.18783869 0.73891517 0.18034056 0.32108739 0.74864496]\nSummary_Second array: 391\nMinimum_Third array: 0.18034055654042924\nCumulative summary_Third array: [0.18783869 0.92675386 1.10709442 1.42818181 2.17682678]\nMean_First array: 2\nCorrelation_First and Second array:\n [[1.         0.99978803]\n [0.99978803 1.        ]]\nStandard deviation_Third array: 0.256769607222188\nVariation_First array 74.66666666666667\n"
     ]
    }
   ],
   "source": [
    "ar1 = np.arange(2, 32, 2)\n",
    "print(ar1)\n",
    "\n",
    "ar2 = np.linspace(3, 50, num=15, dtype=int)\n",
    "print(ar2)\n",
    "\n",
    "ar3 = np.random.random(5)\n",
    "print(ar3)\n",
    "\n",
    "# Find the summary value in an array\n",
    "sum_value = ar2.sum()\n",
    "print('Summary_Second array:', sum_value)\n",
    "\n",
    "# Find the minimum value in an aray\n",
    "min_value = ar3.min()\n",
    "print('Minimum_Third array:', min_value)\n",
    "\n",
    "# Find cumulative sum of the elements along a given axis\n",
    "cumsum_value = ar3.cumsum()\n",
    "print('Cumulative summary_Third array:', cumsum_value)\n",
    "\n",
    "# Find the mean value in an array\n",
    "min_value = ar1.min()\n",
    "print('Mean_First array:', min_value)\n",
    "\n",
    "# Find correlation of arrays\n",
    "corr = np.corrcoef(ar1, ar2)\n",
    "print('Correlation_First and Second array:\\n', corr)\n",
    "\n",
    "# Find standard deviation \n",
    "std = np.std(ar3)\n",
    "print('Standard deviation_Third array:', std)\n",
    "\n",
    "# Find the variance\n",
    "var = np.var(ar1)\n",
    "print('Variance_First array', var)"
   ]
  },
  {
   "cell_type": "markdown",
   "metadata": {},
   "source": [
    "## Task 6b: Logical Aggregate Functions\n",
    "\n",
    "In the practice notebook, perform the following.\n",
    "\n",
    "+ Create two arrays containing boolean values.\n",
    "+ Experiment with each of the aggregation functions: `logical_and`, `logical_or`, `logical_not`. \n",
    "+ For each function call, add a comment line above it that describes what it does.  \n",
    "```"
   ]
  },
  {
   "cell_type": "code",
   "execution_count": 93,
   "metadata": {},
   "outputs": [
    {
     "output_type": "stream",
     "name": "stdout",
     "text": [
      "and logical: [ True  True  True False  True  True]\nor logical: [ True  True  True False  True  True]\nnot logical: [ True False False  True False False]\n"
     ]
    }
   ],
   "source": [
    "ar1 = [True, False, True, False, False, True]\n",
    "ar2 = [False, True, True, False, True, True]\n",
    "\n",
    "# Execute the \"and\" logic\n",
    "and_logic = np.logical_and(ar1, ar2)\n",
    "print('and logical:', or_logic)\n",
    "\n",
    "# Execute tjhe \"or logic\"\n",
    "or_logic = np.logical_or(ar1, ar2)\n",
    "print('or logical:', or_logic)\n",
    "\n",
    "# Execute the \"not\" logic\n",
    "not_logic = np.logical_not(ar2)\n",
    "print('not logical:', not_logic)"
   ]
  },
  {
   "cell_type": "code",
   "execution_count": null,
   "metadata": {},
   "outputs": [],
   "source": []
  }
 ],
 "metadata": {
  "kernelspec": {
   "display_name": "Python 3",
   "language": "python",
   "name": "python3"
  },
  "language_info": {
   "codemirror_mode": {
    "name": "ipython",
    "version": 3
   },
   "file_extension": ".py",
   "mimetype": "text/x-python",
   "name": "python",
   "nbconvert_exporter": "python",
   "pygments_lexer": "ipython3",
   "version": "3.9.1-final"
  }
 },
 "nbformat": 4,
 "nbformat_minor": 4
}